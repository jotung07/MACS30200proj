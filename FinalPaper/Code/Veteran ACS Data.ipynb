{
 "cells": [
  {
   "cell_type": "code",
   "execution_count": 2,
   "metadata": {
    "collapsed": true
   },
   "outputs": [],
   "source": [
    "import numpy as np\n",
    "import urllib3\n",
    "import json\n",
    "from sys import argv\n",
    "import pandas as pd\n",
    "import numpy as np\n",
    "from functools import reduce"
   ]
  },
  {
   "cell_type": "markdown",
   "metadata": {},
   "source": [
    "__DESCRIPTION:__ This notebook is used to prepare the 5-year American Community Survey Data Tables for Veteran Service by period of service, by county and by year for merging. Data are obtained through the American FactFinder tool. I separate the periods of service into Pre-Gulf and Gulf War veterans. <br>\n",
    "\n",
    "__INPUTS USED:__ <br>\n",
    " - ACS_15_5YR_B21002_with_ann.csv -- Data from the 2015 year. <br>\n",
    " - ACS_14_5YR_B21002_with_ann.csv -- Data from the 2014 year.  <br>\n",
    " - ACS_13_5YR_B21002_with_ann.csv -- Data from the 2013 year.  <br>\n",
    " - ACS_12_5YR_B21002_with_ann.csv -- Data from the 2012 year.  <br>\n",
    "   \n",
    " \n",
    "__FINAL OUTPUT:__ <br>\n",
    " - Veteran_ACS.csv -- Dataset of counties with Population Estimates for Pre-Gulf and Gulf War Veterans, by county, attached."
   ]
  },
  {
   "cell_type": "code",
   "execution_count": 3,
   "metadata": {
    "collapsed": true
   },
   "outputs": [],
   "source": [
    "# Codes for the Variables of Interest\n",
    "cols = ['HD01_VD02', 'HD01_VD03', 'HD01_VD04', 'HD01_VD05', 'HD01_VD06', \\\n",
    "        'HD01_V07', 'HD01_VD08', 'HD01_VD09', 'HD01_VD10', 'HD01_VD11', \\\n",
    "        'HD01_VD12', 'HD01_VD13', 'HD01_VD14', 'HD01_VD15', 'HD01_V16', \\\n",
    "        'GEO.id2']\n",
    "\n",
    "# PREPARE 2015 YEAR DATA\n",
    "# Import data\n",
    "df2015 = pd.read_csv('ACS/ACS_15_5YR_B21002/ACS_15_5YR_B21002_with_ann.csv',\\\n",
    "                     encoding = 'ISO-8859-1', skiprows = [1], converters = {'GEO.id2' : str})\n",
    "# Distinguish between populations that served during the Gulf War and those that served before\n",
    "df2015['Gulf'] = df2015.HD01_VD02 + df2015.HD01_VD03 + df2015.HD01_VD04 + df2015.HD01_VD05 + df2015.HD01_VD06\n",
    "df2015['PreGulf'] = df2015.HD01_VD01 - df2015.Gulf\n",
    "# Filter dataframe for columns of interest, and label records with the relevant year\n",
    "vet2015 = df2015[['GEO.id2', 'Gulf', 'PreGulf']].copy()\n",
    "vet2015['Year'] = '2015'\n",
    "\n",
    "# PREPARE 2014 YEAR DATA\n",
    "# Import data\n",
    "df2014 = pd.read_csv('ACS/ACS_14_5YR_B21002/ACS_14_5YR_B21002_with_ann.csv',\\\n",
    "                     encoding = 'ISO-8859-1', skiprows = [1], converters = {'GEO.id2' : str})\n",
    "# Distinguish between populations that served during the Gulf War and those that served before\n",
    "df2014['Gulf'] = df2014.HD01_VD02 + df2014.HD01_VD03 + df2014.HD01_VD04 + df2014.HD01_VD05 + df2014.HD01_VD06\n",
    "df2014['PreGulf'] = df2014.HD01_VD01 - df2014['Gulf']\n",
    "# Filter dataframe for columns of interest, and label records with the relevant year\n",
    "vet2014 = df2014[['GEO.id2', 'Gulf', 'PreGulf']].copy()\n",
    "vet2014['Year'] = '2014'\n",
    "\n",
    "# PREPARE 2013 YEAR DATA\n",
    "# Import data\n",
    "df2013 = pd.read_csv('ACS/ACS_13_5YR_B21002/ACS_13_5YR_B21002_with_ann.csv',\\\n",
    "                     encoding = 'ISO-8859-1', skiprows = [1], converters = {'GEO.id2' : str})\n",
    "# Distinguish between populations that served during the Gulf War and those that served before\n",
    "df2013['Gulf'] = df2013.HD01_VD02 + df2013.HD01_VD03 + df2013.HD01_VD04 + df2013.HD01_VD05 + df2013.HD01_VD06\n",
    "df2013['PreGulf'] = df2013.HD01_VD01 - df2013['Gulf']\n",
    "# Filter dataframe for columns of interest, and label records with the relevant year\n",
    "vet2013 = df2013[['GEO.id2', 'Gulf', 'PreGulf']].copy()\n",
    "vet2013['Year'] = '2013'\n",
    "\n",
    "# PREPARE 2012 YEAR DATA\n",
    "# Import data\n",
    "df2012 = pd.read_csv('ACS/ACS_12_5YR_B21002/ACS_12_5YR_B21002_with_ann.csv',\\\n",
    "                     encoding = 'ISO-8859-1', skiprows = [1], converters = {'GEO.id2' : str})\n",
    "# Distinguish between populations that served during the Gulf War and those that served before\n",
    "df2012['Gulf'] = df2012.HD01_VD02 + df2012.HD01_VD03 + df2012.HD01_VD04 + df2012.HD01_VD05 + df2012.HD01_VD06\n",
    "df2012['PreGulf'] = df2012.HD01_VD01 - df2012['Gulf']\n",
    "# Filter dataframe for columns of interest, and label records with the relevant year\n",
    "vet2012 = df2012[['GEO.id2', 'Gulf', 'PreGulf']].copy()\n",
    "vet2012['Year'] = '2012'"
   ]
  },
  {
   "cell_type": "code",
   "execution_count": 8,
   "metadata": {
    "collapsed": false,
    "scrolled": true
   },
   "outputs": [],
   "source": [
    "# Combine lists into a single dataframe\n",
    "\n",
    "# Create list of dataframes\n",
    "vetlist = [vet2015, vet2014, vet2013, vet2012]\n",
    "# Concatenate the list of frames\n",
    "vets = pd.concat(vetlist, axis = 0)\n",
    "\n",
    "# Save and export\n",
    "vets.to_csv('Veteran_ACS.csv', encoding = 'utf-8')"
   ]
  }
 ],
 "metadata": {
  "kernelspec": {
   "display_name": "Python [Root]",
   "language": "python",
   "name": "Python [Root]"
  },
  "language_info": {
   "codemirror_mode": {
    "name": "ipython",
    "version": 3
   },
   "file_extension": ".py",
   "mimetype": "text/x-python",
   "name": "python",
   "nbconvert_exporter": "python",
   "pygments_lexer": "ipython3",
   "version": "3.5.2"
  }
 },
 "nbformat": 4,
 "nbformat_minor": 0
}
