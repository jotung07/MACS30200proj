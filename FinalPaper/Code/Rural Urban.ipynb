{
 "cells": [
  {
   "cell_type": "code",
   "execution_count": 3,
   "metadata": {
    "collapsed": true
   },
   "outputs": [],
   "source": [
    "import numpy as np\n",
    "import urllib3\n",
    "import json\n",
    "from sys import argv\n",
    "import pandas as pd\n",
    "import numpy as np\n",
    "from functools import reduce\n",
    "from io import StringIO"
   ]
  },
  {
   "cell_type": "markdown",
   "metadata": {},
   "source": [
    "__DESCRIPTION:__ This notebook is used to prepare the National Center for Health Statistics (NCHS) database of county and degree of urbanization (coded 1-6) for merging.  <br>\n",
    "\n",
    "__INPUTS USED:__ <br>\n",
    " - NCHS_Rural_Urban.txt -- Dataset in SAS format obtained from NCHS. Contains fips county codes and 1990, 2006 and 2013 NCHS Urban Code assignments.  <br>\n",
    " \n",
    "__FINAL OUTPUT:__ <br>\n",
    " - Ctytype_fips.csv -- Dataset of counties with relevant fips and 2013 urban codes attached."
   ]
  },
  {
   "cell_type": "code",
   "execution_count": 74,
   "metadata": {
    "collapsed": false
   },
   "outputs": [],
   "source": [
    "# Import the data\n",
    "df = pd.read_sas('nchsurcodes2013.sas7bdat')"
   ]
  },
  {
   "cell_type": "code",
   "execution_count": 77,
   "metadata": {
    "collapsed": false
   },
   "outputs": [],
   "source": [
    "# Clean the data, filter for just fips and 2013 Urban Code\n",
    "\n",
    "df['stfips'] = df['stfips'].map(str).str.replace('.0',\"\").apply(lambda x: x.zfill(2))\n",
    "df['ctyfips'] = df['ctyfips'].map(str).str.replace('.0',\"\").apply(lambda x: x.zfill(3))\n",
    "df['fips'] = df['stfips'] + df['ctyfips']\n",
    "typecounty = df[['fips', 'CODE2013']].copy()\n",
    "typecounty.to_csv('Ctytype_fips.csv', encoding = 'utf-8')"
   ]
  }
 ],
 "metadata": {
  "anaconda-cloud": {},
  "kernelspec": {
   "display_name": "Python [Root]",
   "language": "python",
   "name": "Python [Root]"
  },
  "language_info": {
   "codemirror_mode": {
    "name": "ipython",
    "version": 3
   },
   "file_extension": ".py",
   "mimetype": "text/x-python",
   "name": "python",
   "nbconvert_exporter": "python",
   "pygments_lexer": "ipython3",
   "version": "3.5.2"
  }
 },
 "nbformat": 4,
 "nbformat_minor": 0
}
