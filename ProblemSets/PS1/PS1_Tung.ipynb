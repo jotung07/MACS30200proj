{
 "cells": [
  {
   "cell_type": "code",
   "execution_count": 152,
   "metadata": {
    "collapsed": true
   },
   "outputs": [],
   "source": [
    "%matplotlib inline\n",
    "\n",
    "import os\n",
    "import pandas as pd\n",
    "import numpy  as np # for those extra mathematical functions.\n",
    "from matplotlib import pyplot as plt"
   ]
  },
  {
   "cell_type": "code",
   "execution_count": 296,
   "metadata": {
    "collapsed": false
   },
   "outputs": [],
   "source": [
    "variables = [\"dmar\", \"meduc\", \"feduc\", \"dbwt\", \"bmi_r\", \"priorterm\", \"mager9\", \n",
    "             \"apgar5r\", \"precare\", \"combgest\"]"
   ]
  },
  {
   "cell_type": "code",
   "execution_count": 310,
   "metadata": {
    "collapsed": false
   },
   "outputs": [],
   "source": [
    "def fixapgar5r(num):\n",
    "    if num == '5' or not num:\n",
    "        return np.NaN\n",
    "    else: return int(num)\n",
    "    \n",
    "def fixcombgest(num):\n",
    "    if num == '99' or not num:\n",
    "        return np.NaN\n",
    "    else: return int(num)\n",
    "    \n",
    "def fixprecare(num):\n",
    "    if num == '99' or num == '00' or num == '0' or num == '000' or not num:\n",
    "        return np.NaN\n",
    "    else: return int(num)\n",
    "\n",
    "def fixdmar(string):\n",
    "    if string == \"3\" or string == \"9\" or not string:\n",
    "        return np.NaN\n",
    "    else: \n",
    "        return int(string)\n",
    "\n",
    "def fixmeduc(num):\n",
    "    if num == '9' or not num:\n",
    "        return np.NaN\n",
    "    else: return int(num)\n",
    "    \n",
    "def fixfeduc(num):\n",
    "    if num == '9' or not num:\n",
    "        return np.NaN\n",
    "    else: return int(num)\n",
    "    \n",
    "def fixdbwt(num):\n",
    "    if num == '9999' or not num:\n",
    "        return np.NaN\n",
    "    else: return int(num)\n",
    "    \n",
    "def fixbmi_r(num):\n",
    "    if num == '9' or not num:\n",
    "        return np.NaN\n",
    "    else: return int(num)\n",
    "    \n",
    "def fixpriorterm(num):\n",
    "    if num == '99' or not num:\n",
    "        return np.NaN\n",
    "    else: return int(num)\n",
    "    \n",
    "def fixmager9(num):\n",
    "    if not num:\n",
    "        return np.NaN\n",
    "    else: return int(num)"
   ]
  },
  {
   "cell_type": "code",
   "execution_count": 311,
   "metadata": {
    "collapsed": false
   },
   "outputs": [],
   "source": [
    "fixer = {\"dmar\":fixdmar, \"meduc\":fixmeduc, \"feduc\":fixfeduc, \"dbwt\":fixdbwt, \"bmi_r\":fixbmi_r, \"priorterm\":fixpriorterm,\n",
    "        \"mager9\":fixmager9, \"precare\":fixprecare, \"apgar5r\":fixapgar5r, \"combgest\":fixcombgest}"
   ]
  },
  {
   "cell_type": "code",
   "execution_count": 312,
   "metadata": {
    "collapsed": false
   },
   "outputs": [
    {
     "data": {
      "text/plain": [
       "mager9         int64\n",
       "dmar           int64\n",
       "meduc        float64\n",
       "feduc        float64\n",
       "priorterm    float64\n",
       "precare      float64\n",
       "bmi_r        float64\n",
       "apgar5r      float64\n",
       "combgest     float64\n",
       "dbwt         float64\n",
       "dtype: object"
      ]
     },
     "execution_count": 312,
     "metadata": {},
     "output_type": "execute_result"
    }
   ],
   "source": [
    "data = pd.read_csv(\"natl2015.csv\", usecols = variables, converters = fixer)\n",
    "data.dtypes"
   ]
  },
  {
   "cell_type": "code",
   "execution_count": 313,
   "metadata": {
    "collapsed": true
   },
   "outputs": [],
   "source": [
    "df = data[['mager9', 'dmar', 'meduc', 'feduc', 'priorterm', 'precare',\n",
    "          'bmi_r', 'apgar5r', 'combgest', 'dbwt']].copy()"
   ]
  },
  {
   "cell_type": "code",
   "execution_count": 315,
   "metadata": {
    "collapsed": false
   },
   "outputs": [
    {
     "data": {
      "text/html": [
       "<div>\n",
       "<table border=\"1\" class=\"dataframe\">\n",
       "  <thead>\n",
       "    <tr style=\"text-align: right;\">\n",
       "      <th></th>\n",
       "      <th>mager9</th>\n",
       "      <th>dmar</th>\n",
       "      <th>meduc</th>\n",
       "      <th>feduc</th>\n",
       "      <th>priorterm</th>\n",
       "      <th>precare</th>\n",
       "      <th>bmi_r</th>\n",
       "      <th>apgar5r</th>\n",
       "      <th>combgest</th>\n",
       "      <th>dbwt</th>\n",
       "      <th>meduc_fin</th>\n",
       "      <th>feduc_fin</th>\n",
       "    </tr>\n",
       "  </thead>\n",
       "  <tbody>\n",
       "    <tr>\n",
       "      <th>0</th>\n",
       "      <td>3</td>\n",
       "      <td>2</td>\n",
       "      <td>2.0</td>\n",
       "      <td>2.0</td>\n",
       "      <td>0.0</td>\n",
       "      <td>4.0</td>\n",
       "      <td>3.0</td>\n",
       "      <td>4.0</td>\n",
       "      <td>43.0</td>\n",
       "      <td>3005.0</td>\n",
       "      <td>1.0</td>\n",
       "      <td>1.0</td>\n",
       "    </tr>\n",
       "    <tr>\n",
       "      <th>1</th>\n",
       "      <td>6</td>\n",
       "      <td>1</td>\n",
       "      <td>7.0</td>\n",
       "      <td>5.0</td>\n",
       "      <td>1.0</td>\n",
       "      <td>2.0</td>\n",
       "      <td>4.0</td>\n",
       "      <td>4.0</td>\n",
       "      <td>39.0</td>\n",
       "      <td>3501.0</td>\n",
       "      <td>5.0</td>\n",
       "      <td>3.0</td>\n",
       "    </tr>\n",
       "    <tr>\n",
       "      <th>2</th>\n",
       "      <td>2</td>\n",
       "      <td>1</td>\n",
       "      <td>4.0</td>\n",
       "      <td>4.0</td>\n",
       "      <td>0.0</td>\n",
       "      <td>7.0</td>\n",
       "      <td>NaN</td>\n",
       "      <td>4.0</td>\n",
       "      <td>38.0</td>\n",
       "      <td>3100.0</td>\n",
       "      <td>3.0</td>\n",
       "      <td>3.0</td>\n",
       "    </tr>\n",
       "    <tr>\n",
       "      <th>3</th>\n",
       "      <td>4</td>\n",
       "      <td>1</td>\n",
       "      <td>3.0</td>\n",
       "      <td>3.0</td>\n",
       "      <td>0.0</td>\n",
       "      <td>2.0</td>\n",
       "      <td>2.0</td>\n",
       "      <td>4.0</td>\n",
       "      <td>39.0</td>\n",
       "      <td>3115.0</td>\n",
       "      <td>2.0</td>\n",
       "      <td>2.0</td>\n",
       "    </tr>\n",
       "    <tr>\n",
       "      <th>4</th>\n",
       "      <td>4</td>\n",
       "      <td>1</td>\n",
       "      <td>6.0</td>\n",
       "      <td>3.0</td>\n",
       "      <td>0.0</td>\n",
       "      <td>2.0</td>\n",
       "      <td>4.0</td>\n",
       "      <td>4.0</td>\n",
       "      <td>41.0</td>\n",
       "      <td>3810.0</td>\n",
       "      <td>4.0</td>\n",
       "      <td>2.0</td>\n",
       "    </tr>\n",
       "  </tbody>\n",
       "</table>\n",
       "</div>"
      ],
      "text/plain": [
       "   mager9  dmar  meduc  feduc  priorterm  precare  bmi_r  apgar5r  combgest  \\\n",
       "0       3     2    2.0    2.0        0.0      4.0    3.0      4.0      43.0   \n",
       "1       6     1    7.0    5.0        1.0      2.0    4.0      4.0      39.0   \n",
       "2       2     1    4.0    4.0        0.0      7.0    NaN      4.0      38.0   \n",
       "3       4     1    3.0    3.0        0.0      2.0    2.0      4.0      39.0   \n",
       "4       4     1    6.0    3.0        0.0      2.0    4.0      4.0      41.0   \n",
       "\n",
       "     dbwt  meduc_fin  feduc_fin  \n",
       "0  3005.0        1.0        1.0  \n",
       "1  3501.0        5.0        3.0  \n",
       "2  3100.0        3.0        3.0  \n",
       "3  3115.0        2.0        2.0  \n",
       "4  3810.0        4.0        2.0  "
      ]
     },
     "execution_count": 315,
     "metadata": {},
     "output_type": "execute_result"
    }
   ],
   "source": [
    "df.ix[(df[\"meduc\"] < 3), 'meduc_fin'] = 1\n",
    "df.ix[(df[\"meduc\"] == 3), 'meduc_fin'] = 2\n",
    "df.ix[(df[\"meduc\"] > 3) & (df[\"meduc\"] < 6), 'meduc_fin'] = 3\n",
    "df.ix[(df[\"meduc\"] == 6), 'meduc_fin'] = 4\n",
    "df.ix[(df[\"meduc\"] > 6), 'meduc_fin'] = 5\n",
    "\n",
    "df.ix[(df[\"feduc\"] < 3), 'feduc_fin'] = 1\n",
    "df.ix[(df[\"feduc\"] == 3), 'feduc_fin'] = 2\n",
    "df.ix[(df[\"feduc\"] > 3) & (df[\"feduc\"] < 6), 'feduc_fin'] = 3\n",
    "df.ix[(df[\"feduc\"] == 6), 'feduc_fin'] = 4\n",
    "df.ix[(df[\"feduc\"] > 6), 'feduc_fin'] = 5\n",
    "\n",
    "df.head()"
   ]
  },
  {
   "cell_type": "code",
   "execution_count": 309,
   "metadata": {
    "collapsed": false
   },
   "outputs": [
    {
     "data": {
      "text/plain": [
       "array([  4.,   2.,   7.,   3.,   0.,   5.,   1.,   6.,   9.,  nan,   8.,\n",
       "        10.])"
      ]
     },
     "execution_count": 309,
     "metadata": {},
     "output_type": "execute_result"
    }
   ],
   "source": [
    "df.precare.unique()"
   ]
  },
  {
   "cell_type": "code",
   "execution_count": 316,
   "metadata": {
    "collapsed": false
   },
   "outputs": [
    {
     "data": {
      "text/plain": [
       "mager9       3988733\n",
       "dmar         3988733\n",
       "meduc        3870528\n",
       "feduc        3354672\n",
       "priorterm    3966486\n",
       "precare      3728140\n",
       "bmi_r        3794443\n",
       "apgar5r      3974151\n",
       "combgest     3985756\n",
       "dbwt         3985085\n",
       "meduc_fin    3870528\n",
       "feduc_fin    3354672\n",
       "dtype: int64"
      ]
     },
     "execution_count": 316,
     "metadata": {},
     "output_type": "execute_result"
    }
   ],
   "source": [
    "df.count()"
   ]
  },
  {
   "cell_type": "code",
   "execution_count": 317,
   "metadata": {
    "collapsed": false
   },
   "outputs": [
    {
     "data": {
      "text/plain": [
       "mager9          4.303429\n",
       "dmar            1.402231\n",
       "meduc           4.263361\n",
       "feduc           4.188862\n",
       "priorterm       0.407532\n",
       "precare         2.941871\n",
       "bmi_r           2.893593\n",
       "apgar5r         3.829379\n",
       "combgest       38.646317\n",
       "dbwt         3270.135450\n",
       "meduc_fin       2.882046\n",
       "feduc_fin       2.827966\n",
       "dtype: float64"
      ]
     },
     "execution_count": 317,
     "metadata": {},
     "output_type": "execute_result"
    }
   ],
   "source": [
    "df.mean()"
   ]
  },
  {
   "cell_type": "code",
   "execution_count": 318,
   "metadata": {
    "collapsed": false
   },
   "outputs": [
    {
     "data": {
      "text/plain": [
       "mager9         1.206363\n",
       "dmar           0.490348\n",
       "meduc          1.733877\n",
       "feduc          1.756533\n",
       "priorterm      0.874170\n",
       "precare        1.498568\n",
       "bmi_r          1.191332\n",
       "apgar5r        0.454464\n",
       "combgest       2.485487\n",
       "dbwt         591.802251\n",
       "meduc_fin      1.211744\n",
       "feduc_fin      1.208680\n",
       "dtype: float64"
      ]
     },
     "execution_count": 318,
     "metadata": {},
     "output_type": "execute_result"
    }
   ],
   "source": [
    "df.std()"
   ]
  },
  {
   "cell_type": "code",
   "execution_count": 319,
   "metadata": {
    "collapsed": false,
    "scrolled": false
   },
   "outputs": [
    {
     "data": {
      "text/plain": [
       "mager9          4.0\n",
       "dmar            1.0\n",
       "meduc           4.0\n",
       "feduc           4.0\n",
       "priorterm       0.0\n",
       "precare         3.0\n",
       "bmi_r           3.0\n",
       "apgar5r         4.0\n",
       "combgest       39.0\n",
       "dbwt         3315.0\n",
       "meduc_fin       3.0\n",
       "feduc_fin       3.0\n",
       "dtype: float64"
      ]
     },
     "execution_count": 319,
     "metadata": {},
     "output_type": "execute_result"
    }
   ],
   "source": [
    "df.median()"
   ]
  },
  {
   "cell_type": "code",
   "execution_count": 320,
   "metadata": {
    "collapsed": false,
    "scrolled": true
   },
   "outputs": [
    {
     "data": {
      "text/plain": [
       "mager9          9.0\n",
       "dmar            2.0\n",
       "meduc           8.0\n",
       "feduc           8.0\n",
       "priorterm      30.0\n",
       "precare        10.0\n",
       "bmi_r           6.0\n",
       "apgar5r         4.0\n",
       "combgest       47.0\n",
       "dbwt         8165.0\n",
       "meduc_fin       5.0\n",
       "feduc_fin       5.0\n",
       "dtype: float64"
      ]
     },
     "execution_count": 320,
     "metadata": {},
     "output_type": "execute_result"
    }
   ],
   "source": [
    "df.max()"
   ]
  },
  {
   "cell_type": "code",
   "execution_count": 321,
   "metadata": {
    "collapsed": false
   },
   "outputs": [
    {
     "data": {
      "text/plain": [
       "mager9         1.0\n",
       "dmar           1.0\n",
       "meduc          1.0\n",
       "feduc          1.0\n",
       "priorterm      0.0\n",
       "precare        1.0\n",
       "bmi_r          1.0\n",
       "apgar5r        1.0\n",
       "combgest      17.0\n",
       "dbwt         227.0\n",
       "meduc_fin      1.0\n",
       "feduc_fin      1.0\n",
       "dtype: float64"
      ]
     },
     "execution_count": 321,
     "metadata": {},
     "output_type": "execute_result"
    }
   ],
   "source": [
    "df.min()"
   ]
  },
  {
   "cell_type": "code",
   "execution_count": 322,
   "metadata": {
    "collapsed": false
   },
   "outputs": [
    {
     "data": {
      "text/html": [
       "<div>\n",
       "<table border=\"1\" class=\"dataframe\">\n",
       "  <thead>\n",
       "    <tr style=\"text-align: right;\">\n",
       "      <th></th>\n",
       "      <th>mager9</th>\n",
       "      <th>meduc</th>\n",
       "      <th>feduc</th>\n",
       "      <th>priorterm</th>\n",
       "      <th>precare</th>\n",
       "      <th>bmi_r</th>\n",
       "      <th>apgar5r</th>\n",
       "      <th>combgest</th>\n",
       "      <th>dbwt</th>\n",
       "      <th>meduc_fin</th>\n",
       "      <th>feduc_fin</th>\n",
       "    </tr>\n",
       "    <tr>\n",
       "      <th>dmar</th>\n",
       "      <th></th>\n",
       "      <th></th>\n",
       "      <th></th>\n",
       "      <th></th>\n",
       "      <th></th>\n",
       "      <th></th>\n",
       "      <th></th>\n",
       "      <th></th>\n",
       "      <th></th>\n",
       "      <th></th>\n",
       "      <th></th>\n",
       "    </tr>\n",
       "  </thead>\n",
       "  <tbody>\n",
       "    <tr>\n",
       "      <th>1</th>\n",
       "      <td>2384342</td>\n",
       "      <td>2313488</td>\n",
       "      <td>2274622</td>\n",
       "      <td>2371152</td>\n",
       "      <td>2250614</td>\n",
       "      <td>2272494</td>\n",
       "      <td>2375771</td>\n",
       "      <td>2383114</td>\n",
       "      <td>2382154</td>\n",
       "      <td>2313488</td>\n",
       "      <td>2274622</td>\n",
       "    </tr>\n",
       "    <tr>\n",
       "      <th>2</th>\n",
       "      <td>1604391</td>\n",
       "      <td>1557040</td>\n",
       "      <td>1080050</td>\n",
       "      <td>1595334</td>\n",
       "      <td>1477526</td>\n",
       "      <td>1521949</td>\n",
       "      <td>1598380</td>\n",
       "      <td>1602642</td>\n",
       "      <td>1602931</td>\n",
       "      <td>1557040</td>\n",
       "      <td>1080050</td>\n",
       "    </tr>\n",
       "  </tbody>\n",
       "</table>\n",
       "</div>"
      ],
      "text/plain": [
       "       mager9    meduc    feduc  priorterm  precare    bmi_r  apgar5r  \\\n",
       "dmar                                                                    \n",
       "1     2384342  2313488  2274622    2371152  2250614  2272494  2375771   \n",
       "2     1604391  1557040  1080050    1595334  1477526  1521949  1598380   \n",
       "\n",
       "      combgest     dbwt  meduc_fin  feduc_fin  \n",
       "dmar                                           \n",
       "1      2383114  2382154    2313488    2274622  \n",
       "2      1602642  1602931    1557040    1080050  "
      ]
     },
     "execution_count": 322,
     "metadata": {},
     "output_type": "execute_result"
    }
   ],
   "source": [
    "df.groupby('dmar').count()"
   ]
  },
  {
   "cell_type": "code",
   "execution_count": 323,
   "metadata": {
    "collapsed": false
   },
   "outputs": [
    {
     "data": {
      "text/html": [
       "<div>\n",
       "<table border=\"1\" class=\"dataframe\">\n",
       "  <thead>\n",
       "    <tr style=\"text-align: right;\">\n",
       "      <th></th>\n",
       "      <th>mager9</th>\n",
       "      <th>meduc</th>\n",
       "      <th>feduc</th>\n",
       "      <th>priorterm</th>\n",
       "      <th>precare</th>\n",
       "      <th>bmi_r</th>\n",
       "      <th>apgar5r</th>\n",
       "      <th>combgest</th>\n",
       "      <th>dbwt</th>\n",
       "      <th>meduc_fin</th>\n",
       "      <th>feduc_fin</th>\n",
       "    </tr>\n",
       "    <tr>\n",
       "      <th>dmar</th>\n",
       "      <th></th>\n",
       "      <th></th>\n",
       "      <th></th>\n",
       "      <th></th>\n",
       "      <th></th>\n",
       "      <th></th>\n",
       "      <th></th>\n",
       "      <th></th>\n",
       "      <th></th>\n",
       "      <th></th>\n",
       "      <th></th>\n",
       "    </tr>\n",
       "  </thead>\n",
       "  <tbody>\n",
       "    <tr>\n",
       "      <th>1</th>\n",
       "      <td>4.674624</td>\n",
       "      <td>4.881613</td>\n",
       "      <td>4.663037</td>\n",
       "      <td>0.404397</td>\n",
       "      <td>2.769914</td>\n",
       "      <td>2.833988</td>\n",
       "      <td>3.840229</td>\n",
       "      <td>38.737097</td>\n",
       "      <td>3321.763501</td>\n",
       "      <td>3.309214</td>\n",
       "      <td>3.156702</td>\n",
       "    </tr>\n",
       "    <tr>\n",
       "      <th>2</th>\n",
       "      <td>3.751783</td>\n",
       "      <td>3.344748</td>\n",
       "      <td>3.190234</td>\n",
       "      <td>0.412191</td>\n",
       "      <td>3.203802</td>\n",
       "      <td>2.982593</td>\n",
       "      <td>3.813252</td>\n",
       "      <td>38.511329</td>\n",
       "      <td>3193.409772</td>\n",
       "      <td>2.247348</td>\n",
       "      <td>2.135635</td>\n",
       "    </tr>\n",
       "  </tbody>\n",
       "</table>\n",
       "</div>"
      ],
      "text/plain": [
       "        mager9     meduc     feduc  priorterm   precare     bmi_r   apgar5r  \\\n",
       "dmar                                                                          \n",
       "1     4.674624  4.881613  4.663037   0.404397  2.769914  2.833988  3.840229   \n",
       "2     3.751783  3.344748  3.190234   0.412191  3.203802  2.982593  3.813252   \n",
       "\n",
       "       combgest         dbwt  meduc_fin  feduc_fin  \n",
       "dmar                                                \n",
       "1     38.737097  3321.763501   3.309214   3.156702  \n",
       "2     38.511329  3193.409772   2.247348   2.135635  "
      ]
     },
     "execution_count": 323,
     "metadata": {},
     "output_type": "execute_result"
    }
   ],
   "source": [
    "df.groupby('dmar').mean()"
   ]
  },
  {
   "cell_type": "code",
   "execution_count": null,
   "metadata": {
    "collapsed": true
   },
   "outputs": [],
   "source": []
  },
  {
   "cell_type": "code",
   "execution_count": 324,
   "metadata": {
    "collapsed": false,
    "scrolled": true
   },
   "outputs": [
    {
     "data": {
      "text/html": [
       "<div>\n",
       "<table border=\"1\" class=\"dataframe\">\n",
       "  <thead>\n",
       "    <tr style=\"text-align: right;\">\n",
       "      <th></th>\n",
       "      <th>mager9</th>\n",
       "      <th>meduc</th>\n",
       "      <th>feduc</th>\n",
       "      <th>priorterm</th>\n",
       "      <th>precare</th>\n",
       "      <th>bmi_r</th>\n",
       "      <th>apgar5r</th>\n",
       "      <th>combgest</th>\n",
       "      <th>dbwt</th>\n",
       "      <th>meduc_fin</th>\n",
       "      <th>feduc_fin</th>\n",
       "    </tr>\n",
       "    <tr>\n",
       "      <th>dmar</th>\n",
       "      <th></th>\n",
       "      <th></th>\n",
       "      <th></th>\n",
       "      <th></th>\n",
       "      <th></th>\n",
       "      <th></th>\n",
       "      <th></th>\n",
       "      <th></th>\n",
       "      <th></th>\n",
       "      <th></th>\n",
       "      <th></th>\n",
       "    </tr>\n",
       "  </thead>\n",
       "  <tbody>\n",
       "    <tr>\n",
       "      <th>1</th>\n",
       "      <td>1.059734</td>\n",
       "      <td>1.733996</td>\n",
       "      <td>1.779823</td>\n",
       "      <td>0.858044</td>\n",
       "      <td>1.358562</td>\n",
       "      <td>1.150270</td>\n",
       "      <td>0.434256</td>\n",
       "      <td>2.312254</td>\n",
       "      <td>578.271357</td>\n",
       "      <td>1.185650</td>\n",
       "      <td>1.202796</td>\n",
       "    </tr>\n",
       "    <tr>\n",
       "      <th>2</th>\n",
       "      <td>1.200015</td>\n",
       "      <td>1.262512</td>\n",
       "      <td>1.200488</td>\n",
       "      <td>0.897583</td>\n",
       "      <td>1.655709</td>\n",
       "      <td>1.244834</td>\n",
       "      <td>0.482490</td>\n",
       "      <td>2.717178</td>\n",
       "      <td>603.250046</td>\n",
       "      <td>0.941974</td>\n",
       "      <td>0.885370</td>\n",
       "    </tr>\n",
       "  </tbody>\n",
       "</table>\n",
       "</div>"
      ],
      "text/plain": [
       "        mager9     meduc     feduc  priorterm   precare     bmi_r   apgar5r  \\\n",
       "dmar                                                                          \n",
       "1     1.059734  1.733996  1.779823   0.858044  1.358562  1.150270  0.434256   \n",
       "2     1.200015  1.262512  1.200488   0.897583  1.655709  1.244834  0.482490   \n",
       "\n",
       "      combgest        dbwt  meduc_fin  feduc_fin  \n",
       "dmar                                              \n",
       "1     2.312254  578.271357   1.185650   1.202796  \n",
       "2     2.717178  603.250046   0.941974   0.885370  "
      ]
     },
     "execution_count": 324,
     "metadata": {},
     "output_type": "execute_result"
    }
   ],
   "source": [
    "df.groupby('dmar').std()"
   ]
  },
  {
   "cell_type": "code",
   "execution_count": 326,
   "metadata": {
    "collapsed": false
   },
   "outputs": [
    {
     "data": {
      "text/html": [
       "<div>\n",
       "<table border=\"1\" class=\"dataframe\">\n",
       "  <thead>\n",
       "    <tr style=\"text-align: right;\">\n",
       "      <th></th>\n",
       "      <th>mager9</th>\n",
       "      <th>meduc</th>\n",
       "      <th>feduc</th>\n",
       "      <th>priorterm</th>\n",
       "      <th>precare</th>\n",
       "      <th>bmi_r</th>\n",
       "      <th>apgar5r</th>\n",
       "      <th>combgest</th>\n",
       "      <th>dbwt</th>\n",
       "      <th>meduc_fin</th>\n",
       "      <th>feduc_fin</th>\n",
       "    </tr>\n",
       "    <tr>\n",
       "      <th>dmar</th>\n",
       "      <th></th>\n",
       "      <th></th>\n",
       "      <th></th>\n",
       "      <th></th>\n",
       "      <th></th>\n",
       "      <th></th>\n",
       "      <th></th>\n",
       "      <th></th>\n",
       "      <th></th>\n",
       "      <th></th>\n",
       "      <th></th>\n",
       "    </tr>\n",
       "  </thead>\n",
       "  <tbody>\n",
       "    <tr>\n",
       "      <th>1</th>\n",
       "      <td>1</td>\n",
       "      <td>1.0</td>\n",
       "      <td>1.0</td>\n",
       "      <td>0.0</td>\n",
       "      <td>1.0</td>\n",
       "      <td>1.0</td>\n",
       "      <td>1.0</td>\n",
       "      <td>17.0</td>\n",
       "      <td>227.0</td>\n",
       "      <td>1.0</td>\n",
       "      <td>1.0</td>\n",
       "    </tr>\n",
       "    <tr>\n",
       "      <th>2</th>\n",
       "      <td>1</td>\n",
       "      <td>1.0</td>\n",
       "      <td>1.0</td>\n",
       "      <td>0.0</td>\n",
       "      <td>1.0</td>\n",
       "      <td>1.0</td>\n",
       "      <td>1.0</td>\n",
       "      <td>17.0</td>\n",
       "      <td>227.0</td>\n",
       "      <td>1.0</td>\n",
       "      <td>1.0</td>\n",
       "    </tr>\n",
       "  </tbody>\n",
       "</table>\n",
       "</div>"
      ],
      "text/plain": [
       "      mager9  meduc  feduc  priorterm  precare  bmi_r  apgar5r  combgest  \\\n",
       "dmar                                                                       \n",
       "1          1    1.0    1.0        0.0      1.0    1.0      1.0      17.0   \n",
       "2          1    1.0    1.0        0.0      1.0    1.0      1.0      17.0   \n",
       "\n",
       "       dbwt  meduc_fin  feduc_fin  \n",
       "dmar                               \n",
       "1     227.0        1.0        1.0  \n",
       "2     227.0        1.0        1.0  "
      ]
     },
     "execution_count": 326,
     "metadata": {},
     "output_type": "execute_result"
    }
   ],
   "source": [
    "df.groupby('dmar').min()"
   ]
  },
  {
   "cell_type": "code",
   "execution_count": 327,
   "metadata": {
    "collapsed": false,
    "scrolled": true
   },
   "outputs": [
    {
     "data": {
      "text/html": [
       "<div>\n",
       "<table border=\"1\" class=\"dataframe\">\n",
       "  <thead>\n",
       "    <tr style=\"text-align: right;\">\n",
       "      <th></th>\n",
       "      <th>mager9</th>\n",
       "      <th>meduc</th>\n",
       "      <th>feduc</th>\n",
       "      <th>priorterm</th>\n",
       "      <th>precare</th>\n",
       "      <th>bmi_r</th>\n",
       "      <th>apgar5r</th>\n",
       "      <th>combgest</th>\n",
       "      <th>dbwt</th>\n",
       "      <th>meduc_fin</th>\n",
       "      <th>feduc_fin</th>\n",
       "    </tr>\n",
       "    <tr>\n",
       "      <th>dmar</th>\n",
       "      <th></th>\n",
       "      <th></th>\n",
       "      <th></th>\n",
       "      <th></th>\n",
       "      <th></th>\n",
       "      <th></th>\n",
       "      <th></th>\n",
       "      <th></th>\n",
       "      <th></th>\n",
       "      <th></th>\n",
       "      <th></th>\n",
       "    </tr>\n",
       "  </thead>\n",
       "  <tbody>\n",
       "    <tr>\n",
       "      <th>1</th>\n",
       "      <td>9</td>\n",
       "      <td>8.0</td>\n",
       "      <td>8.0</td>\n",
       "      <td>30.0</td>\n",
       "      <td>10.0</td>\n",
       "      <td>6.0</td>\n",
       "      <td>4.0</td>\n",
       "      <td>47.0</td>\n",
       "      <td>8165.0</td>\n",
       "      <td>5.0</td>\n",
       "      <td>5.0</td>\n",
       "    </tr>\n",
       "    <tr>\n",
       "      <th>2</th>\n",
       "      <td>9</td>\n",
       "      <td>8.0</td>\n",
       "      <td>8.0</td>\n",
       "      <td>25.0</td>\n",
       "      <td>10.0</td>\n",
       "      <td>6.0</td>\n",
       "      <td>4.0</td>\n",
       "      <td>47.0</td>\n",
       "      <td>8165.0</td>\n",
       "      <td>5.0</td>\n",
       "      <td>5.0</td>\n",
       "    </tr>\n",
       "  </tbody>\n",
       "</table>\n",
       "</div>"
      ],
      "text/plain": [
       "      mager9  meduc  feduc  priorterm  precare  bmi_r  apgar5r  combgest  \\\n",
       "dmar                                                                       \n",
       "1          9    8.0    8.0       30.0     10.0    6.0      4.0      47.0   \n",
       "2          9    8.0    8.0       25.0     10.0    6.0      4.0      47.0   \n",
       "\n",
       "        dbwt  meduc_fin  feduc_fin  \n",
       "dmar                                \n",
       "1     8165.0        5.0        5.0  \n",
       "2     8165.0        5.0        5.0  "
      ]
     },
     "execution_count": 327,
     "metadata": {},
     "output_type": "execute_result"
    }
   ],
   "source": [
    "df.groupby('dmar').max()"
   ]
  },
  {
   "cell_type": "code",
   "execution_count": 328,
   "metadata": {
    "collapsed": false
   },
   "outputs": [
    {
     "data": {
      "text/html": [
       "<div>\n",
       "<table border=\"1\" class=\"dataframe\">\n",
       "  <thead>\n",
       "    <tr style=\"text-align: right;\">\n",
       "      <th></th>\n",
       "      <th>mager9</th>\n",
       "      <th>meduc</th>\n",
       "      <th>feduc</th>\n",
       "      <th>priorterm</th>\n",
       "      <th>precare</th>\n",
       "      <th>bmi_r</th>\n",
       "      <th>apgar5r</th>\n",
       "      <th>combgest</th>\n",
       "      <th>dbwt</th>\n",
       "      <th>meduc_fin</th>\n",
       "      <th>feduc_fin</th>\n",
       "    </tr>\n",
       "    <tr>\n",
       "      <th>dmar</th>\n",
       "      <th></th>\n",
       "      <th></th>\n",
       "      <th></th>\n",
       "      <th></th>\n",
       "      <th></th>\n",
       "      <th></th>\n",
       "      <th></th>\n",
       "      <th></th>\n",
       "      <th></th>\n",
       "      <th></th>\n",
       "      <th></th>\n",
       "    </tr>\n",
       "  </thead>\n",
       "  <tbody>\n",
       "    <tr>\n",
       "      <th>1</th>\n",
       "      <td>5</td>\n",
       "      <td>5.0</td>\n",
       "      <td>4.0</td>\n",
       "      <td>0.0</td>\n",
       "      <td>2.0</td>\n",
       "      <td>2.0</td>\n",
       "      <td>4.0</td>\n",
       "      <td>39.0</td>\n",
       "      <td>3355.0</td>\n",
       "      <td>3.0</td>\n",
       "      <td>3.0</td>\n",
       "    </tr>\n",
       "    <tr>\n",
       "      <th>2</th>\n",
       "      <td>4</td>\n",
       "      <td>3.0</td>\n",
       "      <td>3.0</td>\n",
       "      <td>0.0</td>\n",
       "      <td>3.0</td>\n",
       "      <td>3.0</td>\n",
       "      <td>4.0</td>\n",
       "      <td>39.0</td>\n",
       "      <td>3233.0</td>\n",
       "      <td>2.0</td>\n",
       "      <td>2.0</td>\n",
       "    </tr>\n",
       "  </tbody>\n",
       "</table>\n",
       "</div>"
      ],
      "text/plain": [
       "      mager9  meduc  feduc  priorterm  precare  bmi_r  apgar5r  combgest  \\\n",
       "dmar                                                                       \n",
       "1          5    5.0    4.0        0.0      2.0    2.0      4.0      39.0   \n",
       "2          4    3.0    3.0        0.0      3.0    3.0      4.0      39.0   \n",
       "\n",
       "        dbwt  meduc_fin  feduc_fin  \n",
       "dmar                                \n",
       "1     3355.0        3.0        3.0  \n",
       "2     3233.0        2.0        2.0  "
      ]
     },
     "execution_count": 328,
     "metadata": {},
     "output_type": "execute_result"
    }
   ],
   "source": [
    "df.groupby('dmar').median()"
   ]
  },
  {
   "cell_type": "code",
   "execution_count": 355,
   "metadata": {
    "collapsed": true
   },
   "outputs": [],
   "source": [
    "import seaborn as sns\n",
    "sns.set(font=\"Times New Roman\")"
   ]
  },
  {
   "cell_type": "code",
   "execution_count": 357,
   "metadata": {
    "collapsed": false
   },
   "outputs": [
    {
     "data": {
      "image/png": "[encoded data removed]",
      "text/plain": [
       "<matplotlib.figure.Figure at 0x1838146be80>"
      ]
     },
     "metadata": {},
     "output_type": "display_data"
    }
   ],
   "source": [
    "imgdf = df.rename(columns={'precare':'Month Prenatal Care Begins', 'apgar5r':'5-Min APGAR Score Range'})\n",
    "\n",
    "with sns.axes_style('white'):\n",
    "            g = sns.factorplot(\"Month Prenatal Care Begins\", data=imgdf, aspect=2.0, kind='count',\n",
    "                               hue='5-Min APGAR Score Range', order=range(1,10))\n",
    "            g.set_ylabels('Birth Frequency')\n",
    "            g.fig.subplots_adjust(top=.9)\n",
    "            g.fig.suptitle('Frequency of Births by Month Prenatal Care Began, Sorted by 5-Min AGPAR Score Range', fontsize=9)\n",
    "            \n",
    "g.savefig(\"fig.png\")"
   ]
  },
  {
   "cell_type": "code",
   "execution_count": 335,
   "metadata": {
    "collapsed": true
   },
   "outputs": [],
   "source": []
  },
  {
   "cell_type": "code",
   "execution_count": null,
   "metadata": {
    "collapsed": true
   },
   "outputs": [],
   "source": []
  }
 ],
 "metadata": {
  "anaconda-cloud": {},
  "kernelspec": {
   "display_name": "Python [Root]",
   "language": "python",
   "name": "Python [Root]"
  },
  "language_info": {
   "codemirror_mode": {
    "name": "ipython",
    "version": 3
   },
   "file_extension": ".py",
   "mimetype": "text/x-python",
   "name": "python",
   "nbconvert_exporter": "python",
   "pygments_lexer": "ipython3",
   "version": "3.5.2"
  }
 },
 "nbformat": 4,
 "nbformat_minor": 0
}
